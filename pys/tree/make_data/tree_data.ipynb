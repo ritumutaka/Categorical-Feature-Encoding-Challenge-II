{
 "cells": [
  {
   "cell_type": "code",
   "execution_count": 1,
   "outputs": [],
   "source": [
    "\"\"\" やること\n",
    "1. エンコードされたtrain.csv, test.csvの作成(ツリーモデル用)\n",
    "\"\"\"\n",
    "import pandas as pd\n",
    "from tqdm import tqdm\n",
    "import category_encoders as ce\n",
    "import matplotlib.pyplot as plt\n",
    "from sklearn.metrics import roc_curve, auc\n",
    "from sklearn.preprocessing import StandardScaler\n",
    "from sklearn.model_selection import StratifiedKFold\n",
    "\n",
    "\"\"\"\n",
    "各種設定\n",
    "\"\"\"\n",
    "pd.set_option('display.max_columns', 100)\n",
    "PROJECT_FOLDER_PATH = \"/Users/ritumutaka/J/Categorical_Feature_Encoding_Challenge_II\"\n",
    "DATA_FOLDER_PATH = \"/Users/ritumutaka/J/Categorical_Feature_Encoding_Challenge_II/cat-in-the-dat-ii\"\n",
    "RANDOM_STATE = 2020\n",
    "MAKE_TARGET_ENCODED_DATA = True\n",
    "MAKE_ORD_ENCODED_DATA = True  # OrdEncodeに実装\n",
    "LOAD_NUM = 600000    # 5万データのみ読み込み"
   ],
   "metadata": {
    "collapsed": false,
    "pycharm": {
     "name": "#%%\n",
     "is_executing": false
    }
   }
  },
  {
   "cell_type": "code",
   "execution_count": 2,
   "outputs": [],
   "source": [
    "\"\"\"\n",
    "関数定義\n",
    "\"\"\"\n",
    "def count_plot(data_series):\n",
    "    values = data_series.value_counts()\n",
    "    fig, ax = plt.subplots(1, 1, figsize=(8, 5))\n",
    "    \n",
    "    barplot = plt.bar(values.index, values, color='lightgreen', alpha=0.8)\n",
    "    barplot[1].set_color('darkred')\n",
    "    \n",
    "    ax.set_title('Target Distribution')\n",
    "    ax.annotate(\"percentage of target 1 : {}%\".format(values.sum() / len(values)),\n",
    "                xy=(0, 0), xycoords='axes fraction',\n",
    "                xytext=(0, -50), textcoords='offset points',\n",
    "                va=\"top\", ha=\"left\", color='grey',\n",
    "                bbox=dict(boxstyle='round', fc=\"w\", ec='w'))\n",
    "    \n",
    "    plt.xlabel('Target', fontsize=12, weight='bold')\n",
    "    plt.show()\n",
    "\n",
    "def plot_roc(y_true, y_pred, model_name):\n",
    "    fpr, tpr, thresholds = roc_curve(y_true, y_pred)\n",
    "    print(\"%s: %s\" % (model_name, auc(fpr, tpr)))\n",
    "    plt.title(model_name)\n",
    "    plt.plot(fpr, tpr, marker='o')\n",
    "    plt.xlabel('FPR: False positive rate')\n",
    "    plt.ylabel('TPR: True positive rate')\n",
    "    plt.grid()\n",
    "    plt.show()"
   ],
   "metadata": {
    "collapsed": false,
    "pycharm": {
     "name": "#%%\n",
     "is_executing": false
    }
   }
  },
  {
   "cell_type": "code",
   "execution_count": 3,
   "outputs": [
    {
     "name": "stderr",
     "text": [
      "5it [00:32,  6.50s/it]\n"
     ],
     "output_type": "stream"
    }
   ],
   "source": [
    "\"\"\"\n",
    "データの読み込み\n",
    "train, test, sample_submission \n",
    "\"\"\"\n",
    "\n",
    "ENCODE_FEATURES = ['bin_0', 'bin_1', 'bin_2', 'bin_3', 'bin_4',\n",
    "                   'nom_0', 'nom_1', 'nom_2', 'nom_3', 'nom_4', 'nom_5', 'nom_6', 'nom_7', 'nom_8', 'nom_9',\n",
    "                   'ord_0', 'ord_1', 'ord_2', 'ord_3', 'ord_4', 'ord_5',\n",
    "                   'day', 'month']\n",
    "\n",
    "train = pd.read_csv(DATA_FOLDER_PATH + \"/input/train.csv\", index_col=0)[:LOAD_NUM].sort_index(inplace=False)\n",
    "test = pd.read_csv(DATA_FOLDER_PATH + \"/input/test.csv\", index_col=0)[:LOAD_NUM].sort_index(inplace=False)\n",
    "sample_submission = pd.read_csv(DATA_FOLDER_PATH + \"/input/sample_submission.csv\", index_col=0)\n",
    "\n",
    "# 編集に複製\n",
    "train_X, train_y = train.drop(['target'], axis=1), train['target']\n",
    "test_X = test"
   ],
   "metadata": {
    "collapsed": false,
    "pycharm": {
     "name": "#%% \n",
     "is_executing": false
    }
   }
  },
  {
   "cell_type": "code",
   "execution_count": null,
   "outputs": [],
   "source": [
    "\"\"\"\n",
    "特徴生成 & 特徴選択\n",
    "\"\"\"\n",
    "# 不要なカラムの削除\n",
    "train_X.drop(['ord_3'], axis=1, inplace=True)\n",
    "test_X.drop(['ord_3'], axis=1, inplace=True)\n",
    "\n",
    "# add isnull columns 意味なし\n",
    "# for col in ['ord_5', 'nom_7', 'nom_8', 'ord_3']:\n",
    "#     train_X[f'{col}_isnull_count'] = train[col].isnull().astype('int')\n",
    "#     test_X[f'{col}_isnull_count'] = test[col].isnull().astype('int')"
   ],
   "metadata": {
    "collapsed": false,
    "pycharm": {
     "name": "#%%\n"
    }
   }
  },
  {
   "cell_type": "code",
   "execution_count": null,
   "outputs": [],
   "source": [
    "\"\"\"\n",
    "ターゲットエンコーディング\n",
    "\"\"\"\n",
    "\n",
    "# ターゲットエンコードしてデータを作成\n",
    "train_X, train_y = train.drop(['target'], axis=1), train['target']\n",
    "test_X = test\n",
    "\n",
    "# ターゲットエンコーディング\n",
    "skf = StratifiedKFold(n_splits=5, random_state=RANDOM_STATE, shuffle=True)\n",
    "encode_features = ENCODE_FEATURES\n",
    "smoothing = 0.20\n",
    "\n",
    "#  trainデータをエンコード\n",
    "oof = pd.DataFrame([])\n",
    "for tr_index, oof_index in tqdm(skf.split(train_X, train_y)):\n",
    "    ce_target_encoder = ce.TargetEncoder(cols=encode_features, smoothing=smoothing)\n",
    "    ce_target_encoder.fit(train_X.iloc[tr_index, :], train_y.iloc[tr_index])\n",
    "    oof_part = ce_target_encoder.transform(train_X.iloc[oof_index, :])\n",
    "    oof = oof.append(oof_part, ignore_index=False)\n",
    "\n",
    "# testデータをエンコード\n",
    "ce_target_encoder = ce.TargetEncoder(cols=encode_features, smoothing=smoothing)\n",
    "ce_target_encoder.fit(train_X, train_y)\n",
    "train_X = oof.sort_index()\n",
    "test_X = ce_target_encoder.transform(test_X, override_return_df=True)\n"
   ],
   "metadata": {
    "collapsed": false,
    "pycharm": {
     "name": "#%%\n"
    }
   }
  },
  {
   "cell_type": "code",
   "execution_count": 4,
   "outputs": [],
   "source": [
    "\"\"\"\n",
    "序数変数のエンコード\n",
    "(単純に階級を数字に置き換えているだけ)\n",
    "\"\"\"\n",
    "\n",
    "if MAKE_ORD_ENCODED_DATA:\n",
    "    # OrdEncode.ipynbに実装\n",
    "    pass\n",
    "else:\n",
    "    # id列をindexとして指定しないと、test側でindexが0から連番となり、nanが代入されるため注意\n",
    "    # 詳細はwikiに記載\n",
    "    ord_columns = ['id', 'ord_0', 'ord_1', 'ord_2', 'ord_3', 'ord_4']\n",
    "    train_temp = pd.read_csv(DATA_FOLDER_PATH + \"/output/train_ord.csv\", usecols=ord_columns, index_col=0)\n",
    "    test_temp = pd.read_csv(DATA_FOLDER_PATH + \"/output/test_ord.csv\", usecols=ord_columns, index_col=0)\n",
    "    ord_columns.remove('id')\n",
    "    train_X[ord_columns] = train_temp\n",
    "    test_X[ord_columns] = test_temp\n",
    "\n",
    "    # 不要な変数を削除\n",
    "    del train_temp\n",
    "    del test_temp"
   ],
   "metadata": {
    "collapsed": false,
    "pycharm": {
     "name": "#%%\n",
     "is_executing": false
    }
   }
  },
  {
   "cell_type": "code",
   "execution_count": 6,
   "outputs": [
    {
     "name": "stdout",
     "text": [
      "保存しました\n"
     ],
     "output_type": "stream"
    }
   ],
   "source": [
    "\"\"\"\n",
    "データの保存\n",
    "\"\"\"\n",
    "if len(train_X) < 600000 and len(test_X) < 400000:\n",
    "    print('少数データのみ読み込んでいるため、保存はパスします')\n",
    "else:\n",
    "    pd.concat([train_X, train_y], axis=1).to_csv(f\"{PROJECT_FOLDER_PATH}/cat-in-the-dat-ii/output/train_tree.csv\") \n",
    "    test_X.to_csv(f\"{PROJECT_FOLDER_PATH}/cat-in-the-dat-ii/output/test_tree.csv\")\n",
    "    print('保存しました')"
   ],
   "metadata": {
    "collapsed": false,
    "pycharm": {
     "name": "#%%\n",
     "is_executing": false
    }
   }
  },
  {
   "cell_type": "code",
   "execution_count": 6,
   "outputs": [],
   "source": [
    "\n",
    "\n"
   ],
   "metadata": {
    "collapsed": false,
    "pycharm": {
     "name": "#%%\n",
     "is_executing": false
    }
   }
  }
 ],
 "metadata": {
  "kernelspec": {
   "display_name": "Python 3",
   "language": "python",
   "name": "python3"
  },
  "language_info": {
   "codemirror_mode": {
    "name": "ipython",
    "version": 2
   },
   "file_extension": ".py",
   "mimetype": "text/x-python",
   "name": "python",
   "nbconvert_exporter": "python",
   "pygments_lexer": "ipython2",
   "version": "2.7.6"
  },
  "pycharm": {
   "stem_cell": {
    "cell_type": "raw",
    "source": [],
    "metadata": {
     "collapsed": false
    }
   }
  }
 },
 "nbformat": 4,
 "nbformat_minor": 0
}
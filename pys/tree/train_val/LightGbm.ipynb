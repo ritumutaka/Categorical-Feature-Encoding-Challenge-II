{
 "cells": [
  {
   "cell_type": "code",
   "execution_count": 12,
   "outputs": [],
   "source": [
    "\"\"\" やること\n",
    "1. LightGBMのトレーニング\n",
    "2. モデルの精度検証\n",
    "3. モデルを保存(pickle)\n",
    "4. テストデータの予測を保存(csv)\n",
    "\"\"\"\n",
    "import pickle\n",
    "import pandas as pd\n",
    "from tqdm import tqdm\n",
    "import seaborn as sns\n",
    "import lightgbm as lgb\n",
    "import matplotlib.pyplot as plt\n",
    "from sklearn.model_selection import KFold\n",
    "from sklearn.metrics import roc_auc_score"
   ],
   "metadata": {
    "collapsed": false,
    "pycharm": {
     "name": "#%%\n",
     "is_executing": false
    }
   }
  },
  {
   "cell_type": "code",
   "execution_count": 2,
   "outputs": [],
   "source": [
    "\"\"\"\n",
    "各種設定\n",
    "\"\"\"\n",
    "pd.set_option('display.max_columns', 100)\n",
    "PROJECT_FOLDER_PATH = \"/Users/ritumutaka/J/Categorical_Feature_Encoding_Challenge_II\"\n",
    "RANDOM_STATE = 2020"
   ],
   "metadata": {
    "collapsed": false,
    "pycharm": {
     "name": "#%%\n",
     "is_executing": false
    }
   }
  },
  {
   "cell_type": "code",
   "execution_count": 3,
   "outputs": [],
   "source": [
    "\"\"\"\n",
    "データ読み込み\n",
    "train_X, train_y\n",
    "test_X\n",
    "\"\"\"\n",
    "train = pd.read_csv(f\"{PROJECT_FOLDER_PATH}/cat-in-the-dat-ii/output/train_tree.csv\", index_col=0).sort_index(inplace=False)\n",
    "train_X = train.drop(['target'], axis=1)\n",
    "train_y = train['target']\n",
    "test_X = pd.read_csv(f\"{PROJECT_FOLDER_PATH}/cat-in-the-dat-ii/output/test_tree.csv\", index_col=0).sort_index(inplace=False)\n",
    "sample_submission = pd.read_csv(f\"{PROJECT_FOLDER_PATH}/cat-in-the-dat-ii/input/sample_submission.csv\", index_col=0)\n",
    "\n",
    "# 不要な変数を削除\n",
    "del train"
   ],
   "metadata": {
    "collapsed": false,
    "pycharm": {
     "name": "#%%\n",
     "is_executing": false
    }
   }
  },
  {
   "cell_type": "code",
   "execution_count": 4,
   "outputs": [],
   "source": [
    "\"\"\"\n",
    "モデル定義\n",
    "\"\"\"\n",
    "TreeModel_LightGbm = lgb.LGBMClassifier(\n",
    "    # デフォルトパラメータ\n",
    "    random_state=RANDOM_STATE\n",
    ")"
   ],
   "metadata": {
    "collapsed": false,
    "pycharm": {
     "name": "#%%\n",
     "is_executing": false
    }
   }
  },
  {
   "cell_type": "code",
   "execution_count": 5,
   "outputs": [
    {
     "name": "stderr",
     "text": [
      "/Users/ritumutaka/.conda/envs/Categorical_Feature_Encoding_Challenge_II/lib/python3.7/site-packages/sklearn/model_selection/_split.py:296: FutureWarning: Setting a random_state has no effect since shuffle is False. This will raise an error in 0.24. You should leave random_state to its default (None), or set shuffle=True.\n",
      "  FutureWarning\n",
      "5it [00:40,  8.12s/it]\n"
     ],
     "output_type": "stream"
    }
   ],
   "source": [
    "\"\"\"\n",
    "KFoldでvalidation\n",
    "\"\"\"\n",
    "kf = KFold(n_splits=5, shuffle=False, random_state=RANDOM_STATE)\n",
    "\n",
    "EnsembleModels = []\n",
    "RocScores = {}\n",
    "\n",
    "for i, [tr_index, val_index] in tqdm(enumerate(kf.split(train_X, train_y))):\n",
    "    TempModel_LightGbm = TreeModel_LightGbm.fit(train_X.iloc[tr_index, :], train_y.iloc[tr_index])\n",
    "    EnsembleModels.extend([\n",
    "        (f'LightGbm_{i}', TempModel_LightGbm),\n",
    "    ])\n",
    "    \n",
    "    # validation\n",
    "    RocScores[f'{i}'] = [\n",
    "        roc_auc_score(train_y.iloc[val_index], TempModel_LightGbm.predict_proba(train_X.iloc[val_index, :])[:, 1]),\n",
    "    ]"
   ],
   "metadata": {
    "collapsed": false,
    "pycharm": {
     "name": "#%%\n",
     "is_executing": false
    }
   }
  },
  {
   "cell_type": "code",
   "execution_count": 6,
   "outputs": [],
   "source": [
    "\"\"\"\n",
    "モデルを保存\n",
    "\"\"\"\n",
    "with open(\"./models/LightGBM_EnsembleModels.pickle\", mode=\"wb\") as f:\n",
    "    pickle.dump(EnsembleModels, file=f)\n",
    "\n",
    "\"\"\"\n",
    "ローカルCV結果を保存\n",
    "\"\"\"\n",
    "with open(\"./models/LightGBM_RocScores.pickle\", mode=\"wb\") as f:\n",
    "    pickle.dump(RocScores, file=f)"
   ],
   "metadata": {
    "collapsed": false,
    "pycharm": {
     "name": "#%% \n",
     "is_executing": false
    }
   }
  },
  {
   "cell_type": "code",
   "execution_count": 9,
   "outputs": [],
   "source": [
    "\"\"\"\n",
    "テストテータの予測と保存\n",
    "\"\"\"\n",
    "EnsembleDf = sample_submission\n",
    "for name_model in EnsembleModels:\n",
    "    temp = pd.Series(data=name_model[1].predict_proba(test_X)[:, 1], index=test_X.index, name=name_model[0])\n",
    "    EnsembleDf = pd.concat([EnsembleDf, temp], axis=1)\n",
    "\n",
    "EnsembleDf.drop(['target'], axis=1, inplace=True)\n",
    "EnsembleDf.sort_index(axis=1, inplace=True)   # カラム名でソート"
   ],
   "metadata": {
    "collapsed": false,
    "pycharm": {
     "name": "#%%\n",
     "is_executing": false
    }
   }
  },
  {
   "cell_type": "code",
   "execution_count": 13,
   "outputs": [
    {
     "data": {
      "text/plain": "<Figure size 1440x720 with 1 Axes>",
      "image/png": "[encoded data removed]"
     },
     "metadata": {
      "needs_background": "light"
     },
     "output_type": "display_data"
    },
    {
     "data": {
      "text/plain": "array([ 85,  39,  87,   0,  39,  29, 113, 102, 108,  93, 157,  60, 270,\n       278, 221, 134, 135, 194, 228, 261, 128, 239,   0,   0,   0,   0],\n      dtype=int32)"
     },
     "metadata": {},
     "output_type": "execute_result",
     "execution_count": 13
    },
    {
     "data": {
      "text/plain": "<Figure size 432x288 with 0 Axes>"
     },
     "metadata": {},
     "output_type": "display_data"
    }
   ],
   "source": [
    "feature_imp = pd.DataFrame(sorted(zip(EnsembleModels[0][1].feature_importances_,train_X.columns)), columns=['Value','Feature'])\n",
    "\n",
    "plt.figure(figsize=(20, 10))\n",
    "sns.barplot(x=\"Value\", y=\"Feature\", data=feature_imp.sort_values(by=\"Value\", ascending=False))\n",
    "plt.title('LightGBM Features (avg over folds)')\n",
    "plt.tight_layout()\n",
    "plt.show()\n"
   ],
   "metadata": {
    "collapsed": false,
    "pycharm": {
     "name": "#%%\n",
     "is_executing": false
    }
   }
  },
  {
   "cell_type": "code",
   "execution_count": null,
   "outputs": [],
   "source": [
    "\n"
   ],
   "metadata": {
    "collapsed": false,
    "pycharm": {
     "name": "#%%\n"
    }
   }
  }
 ],
 "metadata": {
  "kernelspec": {
   "display_name": "Python 3",
   "language": "python",
   "name": "python3"
  },
  "language_info": {
   "codemirror_mode": {
    "name": "ipython",
    "version": 2
   },
   "file_extension": ".py",
   "mimetype": "text/x-python",
   "name": "python",
   "nbconvert_exporter": "python",
   "pygments_lexer": "ipython2",
   "version": "2.7.6"
  },
  "pycharm": {
   "stem_cell": {
    "cell_type": "raw",
    "source": [],
    "metadata": {
     "collapsed": false
    }
   }
  }
 },
 "nbformat": 4,
 "nbformat_minor": 0
}
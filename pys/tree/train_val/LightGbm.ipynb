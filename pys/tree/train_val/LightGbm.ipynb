{
 "cells": [
  {
   "cell_type": "code",
   "execution_count": null,
   "outputs": [],
   "source": [
    "\"\"\" やること\n",
    "1. LightGBMのトレーニング\n",
    "2. モデルの精度検証\n",
    "3. モデルを保存(pickle)\n",
    "4. テストデータの予測を保存(csv)\n",
    "\"\"\"\n",
    "import pickle\n",
    "import numpy as np\n",
    "import pandas as pd\n",
    "from tqdm import tqdm\n",
    "import seaborn as sns\n",
    "import lightgbm as lgb\n",
    "import matplotlib.pyplot as plt\n",
    "from sklearn.model_selection import KFold, StratifiedKFold\n",
    "from sklearn.metrics import roc_auc_score"
   ],
   "metadata": {
    "collapsed": false,
    "pycharm": {
     "name": "#%%\n",
     "is_executing": true
    }
   }
  },
  {
   "cell_type": "code",
   "execution_count": null,
   "outputs": [],
   "source": [
    "\"\"\"\n",
    "各種設定\n",
    "\"\"\"\n",
    "pd.set_option('display.max_columns', 100)\n",
    "RANDOM_STATE = 2020"
   ],
   "metadata": {
    "collapsed": false,
    "pycharm": {
     "name": "#%%\n",
     "is_executing": true
    }
   }
  },
  {
   "cell_type": "code",
   "execution_count": null,
   "outputs": [],
   "source": [
    "\"\"\"\n",
    "データ読み込み\n",
    "train_X, train_y\n",
    "test_X\n",
    "\"\"\"\n",
    "train = pd.read_csv(\"../../../cat-in-the-dat-ii/output/datas/train_tree.csv\", index_col=0).sort_index(inplace=False)\n",
    "train_X = train.drop(['target'], axis=1)\n",
    "train_y = train['target']\n",
    "test_X = pd.read_csv(\"../../../cat-in-the-dat-ii/output/datas/test_tree.csv\", index_col=0).sort_index(inplace=False)\n",
    "sample_submission = pd.read_csv(\"../../../cat-in-the-dat-ii/input/sample_submission.csv\", index_col=0)\n",
    "\n",
    "# 不要な変数を削除\n",
    "del train"
   ],
   "metadata": {
    "collapsed": false,
    "pycharm": {
     "name": "#%%\n",
     "is_executing": true
    }
   }
  },
  {
   "cell_type": "code",
   "execution_count": null,
   "outputs": [],
   "source": [
    "\"\"\"\n",
    "KFoldでvalidation\n",
    "\"\"\"\n",
    "# kf = KFold(n_splits=5, shuffle=False, random_state=RANDOM_STATE)\n",
    "kf = StratifiedKFold(n_splits=5, shuffle=False, random_state=RANDOM_STATE)\n",
    "\n",
    "EnsembleModels = []\n",
    "RocScores = {}\n",
    "\n",
    "for i, [tr_index, val_index] in tqdm(enumerate(kf.split(train_X, train_y))):\n",
    "    model = lgb.LGBMClassifier(\n",
    "        learning_rate=0.05,\n",
    "        feature_fraction=0.1,\n",
    "        min_data_in_leaf=12,\n",
    "        max_depth=3,\n",
    "        reg_alpha=1,\n",
    "        reg_lambda=1,\n",
    "        objective='binary',\n",
    "        metric='auc',\n",
    "        n_jobs=-1,\n",
    "        n_estimators=5000,\n",
    "        feature_fraction_seed=42,\n",
    "        bagging_seed=42,\n",
    "        boosting_type='gbdt',\n",
    "        verbose=1,\n",
    "        is_unbalance=True,\n",
    "        boost_from_average=False,\n",
    "        random_state=RANDOM_STATE)\n",
    "    \n",
    "    TempModel = model.fit(train_X.iloc[tr_index, :], train_y.iloc[tr_index],\n",
    "                                                eval_set=[(train_X.iloc[val_index, :], train_y.iloc[val_index])],\n",
    "                                                verbose=1,\n",
    "                                                eval_metric='auc',\n",
    "                                                early_stopping_rounds=100)\n",
    "    EnsembleModels.append(\n",
    "        (f'LightGbm_{i}', TempModel))\n",
    "    \n",
    "    # validation\n",
    "    RocScores[f'{i}'] = [\n",
    "        roc_auc_score(train_y.iloc[val_index], TempModel.predict_proba(train_X.iloc[val_index, :])[:, 1]),\n",
    "    ]"
   ],
   "metadata": {
    "collapsed": false,
    "pycharm": {
     "name": "#%%\n",
     "is_executing": true
    }
   }
  },
  {
   "cell_type": "code",
   "execution_count": null,
   "outputs": [],
   "source": [
    "\"\"\"\n",
    "モデルを保存\n",
    "\"\"\"\n",
    "with open(\"../../../cat-in-the-dat-ii/output/models/LightGBM.pkl\", mode=\"wb\") as f:\n",
    "    pickle.dump(EnsembleModels, file=f)\n",
    "    print('モデル保存しました')\n",
    "\n",
    "\"\"\"\n",
    "ローカルCV結果を保存\n",
    "\"\"\"\n",
    "with open(\"../../../cat-in-the-dat-ii/output/results/LightGBM_localCV.pkl\", mode=\"wb\") as f:\n",
    "    pickle.dump(RocScores, file=f)\n",
    "    print('ローカルCVを保存しました')\n"
   ],
   "metadata": {
    "collapsed": false,
    "pycharm": {
     "name": "#%% \n",
     "is_executing": true
    }
   }
  },
  {
   "cell_type": "code",
   "execution_count": null,
   "outputs": [],
   "source": [
    "\"\"\"\n",
    "テストテータの予測と保存\n",
    "\"\"\"\n",
    "# dataframe.append()  おっそーーー\n",
    "# dict -> dataframe  はっやーーー\n",
    "EnsembleDf = {}\n",
    "for name_model in tqdm(EnsembleModels):\n",
    "    temp = pd.Series(data=name_model[1].predict_proba(test_X)[:, 1], index=test_X.index, name=name_model[0])\n",
    "    EnsembleDf[name_model[0]] = temp\n",
    "\n",
    "EnsembleDf = pd.DataFrame.from_dict(EnsembleDf, orient='columns')\n",
    "EnsembleDf.set_index(keys=sample_submission.index[:], inplace=True)\n",
    "sample_submission['target'] = EnsembleDf.mean(axis=1)\n",
    "sample_submission.to_csv(\"../../../cat-in-the-dat-ii/output/datas/sample_submission_lgb.csv\")\n",
    "print('sample_submission_lgbを保存しました')"
   ],
   "metadata": {
    "collapsed": false,
    "pycharm": {
     "name": "#%%\n",
     "is_executing": true
    }
   }
  },
  {
   "cell_type": "code",
   "execution_count": null,
   "outputs": [],
   "source": [
    "\"\"\"\n",
    "特徴重要度\n",
    "\"\"\"\n",
    "fig = plt.figure()\n",
    "img = lgb.plot_importance(EnsembleModels[0][1],\n",
    "                          importance_type='gain', title='LightGBM feature importance gain')\n",
    "plt.savefig(\"../../../cat-in-the-dat-ii/output/results/lgb_feature_importance\", bbox_inches='tight')\n",
    "\n",
    "# 以下はgainではなく、頻度\n",
    "# feature_imp = pd.DataFrame(sorted(zip(EnsembleModels[0][1].feature_importances_,train_X.columns)), columns=['Value','Feature'])\n",
    "# \n",
    "# plt.figure(figsize=(20, 10))\n",
    "# sns.barplot(x=\"Value\", y=\"Feature\", data=feature_imp.sort_values(by=\"Value\", ascending=False))\n",
    "# plt.title('LightGBM Features (avg over folds)')\n",
    "# plt.tight_layout()\n",
    "# plt.show()\n"
   ],
   "metadata": {
    "collapsed": false,
    "pycharm": {
     "name": "#%%\n",
     "is_executing": true
    }
   }
  },
  {
   "cell_type": "code",
   "execution_count": null,
   "outputs": [],
   "source": [
    "print(RocScores)"
   ],
   "metadata": {
    "collapsed": false,
    "pycharm": {
     "name": "#%%\n",
     "is_executing": true
    }
   }
  },
  {
   "cell_type": "code",
   "execution_count": null,
   "outputs": [],
   "source": [
    "a = {'0': [0.7103774122037242], '1': [0.7295190845480759], '2': [0.7171733903991969], '3': [0.7080964594871795], '4': [0.7273620376188681]}\n"
   ],
   "metadata": {
    "collapsed": false,
    "pycharm": {
     "name": "#%%\n",
     "is_executing": true
    }
   }
  },
  {
   "cell_type": "code",
   "execution_count": null,
   "outputs": [],
   "source": [
    "new = np.array(list(RocScores.values())).flatten().mean()\n",
    "print(new)\n",
    "\n",
    "old = np.array(list(a.values())).flatten().mean()\n",
    "print(old)\n",
    "\n",
    "print(f'new - old = {new - old}')"
   ],
   "metadata": {
    "collapsed": false,
    "pycharm": {
     "name": "#%%\n",
     "is_executing": true
    }
   }
  },
  {
   "cell_type": "code",
   "execution_count": null,
   "outputs": [],
   "source": [
    "\n",
    "\n"
   ],
   "metadata": {
    "collapsed": false,
    "pycharm": {
     "name": "#%%\n",
     "is_executing": true
    }
   }
  },
  {
   "cell_type": "code",
   "execution_count": null,
   "outputs": [],
   "source": [
    "\n"
   ],
   "metadata": {
    "collapsed": false,
    "pycharm": {
     "name": "#%%\n",
     "is_executing": true
    }
   }
  }
 ],
 "metadata": {
  "kernelspec": {
   "display_name": "Python 3",
   "language": "python",
   "name": "python3"
  },
  "language_info": {
   "codemirror_mode": {
    "name": "ipython",
    "version": 2
   },
   "file_extension": ".py",
   "mimetype": "text/x-python",
   "name": "python",
   "nbconvert_exporter": "python",
   "pygments_lexer": "ipython2",
   "version": "2.7.6"
  },
  "pycharm": {
   "stem_cell": {
    "cell_type": "raw",
    "source": [],
    "metadata": {
     "collapsed": false
    }
   }
  }
 },
 "nbformat": 4,
 "nbformat_minor": 0
}
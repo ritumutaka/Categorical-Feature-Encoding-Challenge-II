{
 "cells": [
  {
   "cell_type": "code",
   "execution_count": null,
   "outputs": [],
   "source": [
    "\"\"\" やること\n",
    "1. エンコードされたtrain.csv, test.csvの作成(線形モデル用)\n",
    "\"\"\"\n",
    "import numpy as np\n",
    "import pandas as pd\n",
    "import seaborn as sns\n",
    "from tqdm import tqdm\n",
    "from scipy import stats\n",
    "# import category_encoders as ce\n",
    "import matplotlib.pyplot as plt \n",
    "import matplotlib.gridspec as gridspec\n",
    "from sklearn.metrics import roc_curve, auc\n",
    "from sklearn.model_selection import StratifiedKFold\n",
    "\n",
    "\"\"\"\n",
    "各種設定\n",
    "\"\"\"\n",
    "pd.set_option('display.max_columns', 100)\n",
    "RANDOM_STATE = 2020\n",
    "MAKE_TARGET_ENCODED_DATA = True\n",
    "MAKE_ORD_ENCODED_DATA = True  # OrdEncodeに実装\n",
    "LOAD_NUM = 5000    # 5000データのみ読み込み"
   ],
   "metadata": {
    "collapsed": false,
    "pycharm": {
     "name": "#%%\n"
    }
   }
  },
  {
   "cell_type": "code",
   "execution_count": null,
   "outputs": [],
   "source": [
    "\"\"\"\n",
    "関数定義\n",
    "\"\"\"\n",
    "\n",
    "def plotting_cat_fet(df, cols, vis_row=5, vis_col=2):\n",
    "\n",
    "    grid = gridspec.GridSpec(vis_row,vis_col) # The grid of chart\n",
    "    plt.figure(figsize=(17, 35))\n",
    "\n",
    "    # loop to get column and the count of plots\n",
    "    for n, col in tqdm(enumerate(df[cols])): \n",
    "        tmp = pd.crosstab(df[col], df['target'], normalize='index') * 100\n",
    "        tmp = tmp.reset_index()\n",
    "        tmp.rename(columns={0:'No',1:'Yes'}, inplace=True)\n",
    "\n",
    "        ax = plt.subplot(grid[n]) # feeding the figure of grid\n",
    "        sns.countplot(x=col, data=df, order=list(tmp[col].values) , color='green') \n",
    "        ax.set_ylabel('Count', fontsize=15) # y axis label\n",
    "        ax.set_title(f'{col} Distribution by Target', fontsize=18) # title label\n",
    "        ax.set_xlabel(f'{col} values', fontsize=15)\n",
    "\n",
    "        # twinX - to build a second yaxis\n",
    "        gt = ax.twinx()\n",
    "        gt = sns.pointplot(x=col, y='Yes', data=tmp,\n",
    "                           order=list(tmp[col].values),\n",
    "                           color='black', legend=False)\n",
    "        gt.set_ylim(tmp['Yes'].min()-5,tmp['Yes'].max()*1.1)\n",
    "        gt.set_ylabel(\"Target %True(1)\", fontsize=16)\n",
    "        sizes=[] # Get highest values in y\n",
    "        for p in ax.patches: # loop to all objects\n",
    "            height = p.get_height()\n",
    "            sizes.append(height)\n",
    "            ax.text(p.get_x()+p.get_width()/2.,\n",
    "                    height + 3,\n",
    "                    '{:1.2f}%'.format(height/len(df)*100),\n",
    "                    ha=\"center\", fontsize=14) \n",
    "        ax.set_ylim(0, max(sizes) * 1.15)\n",
    "\n",
    "    plt.subplots_adjust(hspace = 0.5, wspace=.3)\n",
    "    plt.show()\n",
    "\n",
    "def get_summary(df):\n",
    "    print(f\"Dataset Shape: {df.shape}\")\n",
    "    summary = pd.DataFrame(df.dtypes,columns=['dtypes'])\n",
    "    summary = summary.reset_index()\n",
    "    summary['Name'] = summary['index']\n",
    "    summary = summary[['Name','dtypes']]\n",
    "    summary['Missing'] = df.isnull().sum().values    \n",
    "    summary['Uniques'] = df.nunique().values\n",
    "    summary['First Value'] = df.loc[0].values\n",
    "    summary['Second Value'] = df.loc[1].values\n",
    "    summary['Third Value'] = df.loc[2].values\n",
    "\n",
    "    for name in summary['Name'].value_counts().index:\n",
    "        summary.loc[summary['Name'] == name, 'Entropy'] = round(stats.entropy(df[name].value_counts(normalize=True), base=2),2) \n",
    "\n",
    "    return summary\n",
    "\n",
    "def count_plot(data_series):\n",
    "    values = data_series.value_counts()\n",
    "    fig, ax = plt.subplots(1, 1, figsize=(8, 5))\n",
    "\n",
    "    barplot = plt.bar(values.index, values, color='lightgreen', alpha=0.8)\n",
    "    barplot[1].set_color('darkred')\n",
    "\n",
    "    ax.set_title('Target Distribution')\n",
    "    ax.annotate(\"percentage of target 1 : {}%\".format(values.sum() / len(values)),\n",
    "                xy=(0, 0), xycoords='axes fraction',\n",
    "                xytext=(0, -50), textcoords='offset points',\n",
    "                va=\"top\", ha=\"left\", color='grey',\n",
    "                bbox=dict(boxstyle='round', fc=\"w\", ec='w'))\n",
    "\n",
    "    plt.xlabel('Target', fontsize=12, weight='bold')\n",
    "    plt.show()\n",
    "\n",
    "def plot_roc(y_true, y_pred, model_name):\n",
    "    fpr, tpr, thresholds = roc_curve(y_true, y_pred)\n",
    "    print(\"%s: %s\" % (model_name, auc(fpr, tpr)))\n",
    "    plt.title(model_name)\n",
    "    plt.plot(fpr, tpr, marker='o')\n",
    "    plt.xlabel('FPR: False positive rate')\n",
    "    plt.ylabel('TPR: True positive rate')\n",
    "    plt.grid()\n",
    "    plt.show()"
   ],
   "metadata": {
    "collapsed": false,
    "pycharm": {
     "name": "#%%\n"
    }
   }
  },
  {
   "cell_type": "code",
   "execution_count": null,
   "outputs": [],
   "source": [
    "\"\"\"\n",
    "データの読み込み\n",
    "train, test, sample_submission \n",
    "\"\"\"\n",
    "\n",
    "train = pd.read_csv(\"../../../cat-in-the-dat-ii/input/train.csv\", index_col=0)[:LOAD_NUM].sort_index(inplace=False)\n",
    "test = pd.read_csv(\"../../../cat-in-the-dat-ii/input/test.csv\", index_col=0)[:LOAD_NUM].sort_index(inplace=False)\n",
    "sample_submission = pd.read_csv(\"../../../cat-in-the-dat-ii/input/sample_submission.csv\", index_col=0)\n",
    "\n",
    "# 編集用に複製\n",
    "train_X, train_y = train.drop(['target'], axis=1), train['target']\n",
    "test_X = test"
   ],
   "metadata": {
    "collapsed": false,
    "pycharm": {
     "name": "#%% \n"
    }
   }
  },
  {
   "cell_type": "code",
   "execution_count": null,
   "outputs": [],
   "source": [
    "\"\"\"\n",
    "特徴生成 & 特徴選択\n",
    "\"\"\"\n",
    "# 不要なカラムの削除\n",
    "train_X.drop(['ord_3'], axis=1, inplace=True)\n",
    "test_X.drop(['ord_3'], axis=1, inplace=True)\n",
    "\n",
    "# ord_5 １文字目、２文字目\n",
    "train_X['ord_5_first'] = train_X['ord_5'].str[0]\n",
    "train_X['ord_5_second'] = train_X['ord_5'].str[1]\n",
    "test_X['ord_5_first'] = test_X['ord_5'].str[0]\n",
    "test_X['ord_5_second'] = test_X['ord_5'].str[1]\n",
    "\n",
    "# ord_5 １文字目、２文字目の大文字\n",
    "train_X['ord_5_first_upper'] = train_X['ord_5_first'].str.upper()\n",
    "test_X['ord_5_first_upper'] = test_X['ord_5_first'].str.upper()\n",
    "train_X['ord_5_second_upper'] = train_X['ord_5_second'].str.upper()\n",
    "test_X['ord_5_second_upper'] = test_X['ord_5_second'].str.upper()\n"
   ],
   "metadata": {
    "collapsed": false,
    "pycharm": {
     "name": "#%%\n"
    }
   }
  },
  {
   "cell_type": "code",
   "execution_count": null,
   "outputs": [],
   "source": [
    "# ランダムを追加してみる(100カテゴリ)\n",
    "# data = np.random.randint(low=1, high=100, size=(1, len(train_X))).flatten()\n",
    "# train_X['random_100'] = pd.Series(data, index=train_X.index)\n",
    "# test_X['random_100'] = pd.Series(data, index=train_X.index)"
   ],
   "metadata": {
    "collapsed": false,
    "pycharm": {
     "name": "#%%\n"
    }
   }
  },
  {
   "cell_type": "code",
   "execution_count": null,
   "outputs": [],
   "source": [
    "\"\"\"\n",
    "------------------------- データ分析 -------------------------\n",
    "\"\"\"\n",
    "\n",
    "train_summary = get_summary(train_X)"
   ],
   "metadata": {
    "collapsed": false,
    "pycharm": {
     "name": "#%%\n"
    }
   }
  },
  {
   "cell_type": "code",
   "execution_count": null,
   "outputs": [],
   "source": [
    "\"\"\" \n",
    "バイナリカテゴリの分布 \n",
    "\"\"\"\n",
    "\n",
    "bin_cols = ['bin_0', 'bin_1', 'bin_2', 'bin_3', 'bin_4',] \n",
    "grid = gridspec.GridSpec(3, 2) # The grid of chart\n",
    "plt.figure(figsize=(16,20))\n",
    "\n",
    "# loop to get column and the count of plots\n",
    "for n, col in tqdm(enumerate(train[bin_cols])): \n",
    "    ax = plt.subplot(grid[n])\n",
    "    sns.countplot(x=col, data=train, hue='target', palette='hls') \n",
    "    ax.set_ylabel('Count', fontsize=15)\n",
    "    ax.set_title(f'{col} Distribution by Target', fontsize=18)\n",
    "    ax.set_xlabel(f'{col} values', fontsize=15)\n",
    "    sizes=[]\n",
    "    for p in ax.patches: # loop to all objects\n",
    "        height = p.get_height()\n",
    "        sizes.append(height)\n",
    "        ax.text(p.get_x()+p.get_width()/2.,\n",
    "                height + 3,\n",
    "                '{:1.2f}%'.format(height/len(train)*100),\n",
    "                ha=\"center\", fontsize=14) \n",
    "    ax.set_ylim(0, max(sizes) * 1.15)\n",
    "    \n",
    "plt.show()"
   ],
   "metadata": {
    "collapsed": false,
    "pycharm": {
     "name": "#%%\n"
    }
   }
  },
  {
   "cell_type": "code",
   "execution_count": null,
   "outputs": [],
   "source": [
    "train_df = pd.concat([train_X, train_y], axis=1)"
   ],
   "metadata": {
    "collapsed": false,
    "pycharm": {
     "name": "#%%\n"
    }
   }
  },
  {
   "cell_type": "code",
   "execution_count": null,
   "outputs": [],
   "source": [
    "# nom_6以降はユニークが多すぎる\n",
    "nom_cols = [f'nom_{i}' for i in range(5)]\n",
    "# nom_cols.append('day')\n",
    "# nom_cols.append('month')\n",
    "# nom_cols.append('ord_0')\n",
    "# nom_cols.append('ord_1')\n",
    "# nom_cols.append('ord_2')\n",
    "\n",
    "plotting_cat_fet(train_df, cols=nom_cols)\n"
   ],
   "metadata": {
    "collapsed": false,
    "pycharm": {
     "name": "#%%\n"
    }
   }
  },
  {
   "cell_type": "code",
   "execution_count": null,
   "outputs": [],
   "source": [
    "print(train_X['ord_5_first'].nunique())\n",
    "print(train_X['ord_5_first_upper'].nunique())\n",
    "print(train_X['ord_5_second'].nunique())\n",
    "print(train_X['ord_5_second_upper'].nunique())\n",
    "print(train_X['ord_5'].nunique())\n"
   ],
   "metadata": {
    "collapsed": false,
    "pycharm": {
     "name": "#%%\n"
    }
   }
  },
  {
   "cell_type": "code",
   "execution_count": null,
   "outputs": [],
   "source": [
    "rate_df_dict = {}\n",
    "firsts = ['ord_5', 'ord_5_first', 'ord_5_first_upper']\n",
    "seconds = ['ord_5', 'ord_5_second', 'ord_5_second_upper']\n",
    "ord_features = [f'ord_{i}' for i in range(6)]\n",
    "ord_features.remove('ord_3')\n",
    "for col in ord_features:\n",
    "    temp_df = train_df[[col, 'target']].groupby(by=col).count()\n",
    "    temp_df.sort_index(inplace=True)\n",
    "    rate_df_dict[col] = temp_df.T\n",
    "\n"
   ],
   "metadata": {
    "collapsed": false,
    "pycharm": {
     "name": "#%%\n"
    }
   }
  },
  {
   "cell_type": "code",
   "execution_count": null,
   "outputs": [],
   "source": [
    "temp_df = train_df[['ord_1', 'target']].groupby(by=['ord_1'])"
   ],
   "metadata": {
    "collapsed": false,
    "pycharm": {
     "name": "#%%\n"
    }
   }
  },
  {
   "cell_type": "code",
   "execution_count": null,
   "outputs": [],
   "source": [
    "temp_df\n",
    "\n",
    "\"\"\"\n",
    "----------------------------- データ分析 -----------------------------\n",
    "\"\"\""
   ],
   "metadata": {
    "collapsed": false,
    "pycharm": {
     "name": "#%%\n"
    }
   }
  },
  {
   "cell_type": "code",
   "execution_count": null,
   "outputs": [],
   "source": [
    "\"\"\"\n",
    "ターゲットエンコーディング\n",
    "\"\"\"\n",
    "# \n",
    "# # ターゲットエンコーディング\n",
    "# skf = StratifiedKFold(n_splits=5, random_state=RANDOM_STATE, shuffle=True)\n",
    "# smoothing = 0.20\n",
    "# \n",
    "# #  trainデータをエンコード\n",
    "# oof = pd.DataFrame([])\n",
    "# for tr_index, oof_index in tqdm(skf.split(train_X, train_y)):\n",
    "#     ce_target_encoder = ce.TargetEncoder(smoothing=smoothing, cols=list(train_X.columns))\n",
    "#     ce_target_encoder.fit(train_X.iloc[tr_index, :], train_y.iloc[tr_index])\n",
    "#     oof_part = ce_target_encoder.transform(train_X.iloc[oof_index, :])\n",
    "#     oof = oof.append(oof_part, ignore_index=False)\n",
    "# \n",
    "# # testデータをエンコード\n",
    "# ce_target_encoder = ce.TargetEncoder(smoothing=smoothing, cols=list(train_X.columns))\n",
    "# ce_target_encoder.fit(train_X, train_y)\n",
    "# train_X = oof.sort_index()\n",
    "# test_X = ce_target_encoder.transform(test_X, override_return_df=True)\n",
    "# "
   ],
   "metadata": {
    "collapsed": false,
    "pycharm": {
     "name": "#%%\n"
    }
   }
  },
  {
   "cell_type": "code",
   "execution_count": null,
   "outputs": [],
   "source": [
    "\"\"\"\n",
    "序数変数のエンコード\n",
    "(単純に階級を数字に置き換えているだけ)\n",
    "\"\"\"\n",
    "\n",
    "if MAKE_ORD_ENCODED_DATA:\n",
    "    # TODO: 序数エンコードを実装\n",
    "    pass\n",
    "else:\n",
    "    # id列をindexとして指定しないと、test側でindexが0から連番となり、nanが代入されるため注意\n",
    "    # 詳細はwikiに記載\n",
    "    ord_columns = ['id', 'ord_0', 'ord_1', 'ord_2', 'ord_3', 'ord_4']\n",
    "    train_temp = pd.read_csv(\"../../../cat-in-the-dat-ii/output/datas/train_ord.csv\", usecols=ord_columns, index_col=0)\n",
    "    test_temp = pd.read_csv(\"../../../cat-in-the-dat-ii/output/datas/test_ord.csv\", usecols=ord_columns, index_col=0)\n",
    "    ord_columns.remove('id')\n",
    "    train_X[ord_columns] = train_temp\n",
    "    test_X[ord_columns] = test_temp\n",
    "\n",
    "    # 不要な変数を削除\n",
    "    del train_temp\n",
    "    del test_temp"
   ],
   "metadata": {
    "collapsed": false,
    "pycharm": {
     "name": "#%%\n"
    }
   }
  },
  {
   "cell_type": "code",
   "execution_count": null,
   "outputs": [],
   "source": [
    "\"\"\"\n",
    "データの保存\n",
    "\"\"\"\n",
    "if len(train_X) < 600000 and len(test_X) < 400000:\n",
    "    pd.concat([train_X, train_y], axis=1).to_csv(\"../../../cat-in-the-dat-ii/output/datas/train_linear_mini.csv\") \n",
    "    test_X.to_csv(\"../../../cat-in-the-dat-ii/output/datas/test_linear_mini.csv\")\n",
    "    print('ミニデータを保存しました')\n",
    "else:\n",
    "    pd.concat([train_X, train_y], axis=1).to_csv(\"../../../cat-in-the-dat-ii/output/datas/train_linear.csv\") \n",
    "    test_X.to_csv(\"../../../cat-in-the-dat-ii/output/datas/test_linear.csv\")\n",
    "    print('本番データ保存しました')\n"
   ],
   "metadata": {
    "collapsed": false,
    "pycharm": {
     "name": "#%%\n"
    }
   }
  },
  {
   "cell_type": "code",
   "execution_count": null,
   "outputs": [],
   "source": [],
   "metadata": {
    "collapsed": false,
    "pycharm": {
     "name": "#%%\n"
    }
   }
  }
 ],
 "metadata": {
  "kernelspec": {
   "display_name": "Python 3",
   "language": "python",
   "name": "python3"
  },
  "language_info": {
   "codemirror_mode": {
    "name": "ipython",
    "version": 2
   },
   "file_extension": ".py",
   "mimetype": "text/x-python",
   "name": "python",
   "nbconvert_exporter": "python",
   "pygments_lexer": "ipython2",
   "version": "2.7.6"
  },
  "pycharm": {
   "stem_cell": {
    "cell_type": "raw",
    "source": [],
    "metadata": {
     "collapsed": false
    }
   }
  }
 },
 "nbformat": 4,
 "nbformat_minor": 0
}
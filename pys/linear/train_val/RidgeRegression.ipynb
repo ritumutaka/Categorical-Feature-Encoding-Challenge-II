{
 "cells": [
  {
   "cell_type": "code",
   "execution_count": null,
   "outputs": [],
   "source": [
    "import pickle\n",
    "import numpy as np\n",
    "import pandas as pd\n",
    "from tqdm import tqdm\n",
    "import seaborn as sns\n",
    "import matplotlib.pyplot as plt\n",
    "from sklearn.linear_model import Ridge\n",
    "from sklearn.metrics import roc_auc_score\n",
    "from sklearn.model_selection import StratifiedKFold\n"
   ],
   "metadata": {
    "collapsed": false,
    "pycharm": {
     "name": "#%%\n"
    }
   }
  },
  {
   "cell_type": "code",
   "execution_count": null,
   "outputs": [],
   "source": [
    "\"\"\"\n",
    "各種設定\n",
    "\"\"\"\n",
    "pd.set_option('display.max_columns', 100)\n",
    "RANDOM_STATE = 2020"
   ],
   "metadata": {
    "collapsed": false,
    "pycharm": {
     "name": "#%%\n"
    }
   }
  },
  {
   "cell_type": "code",
   "execution_count": null,
   "outputs": [],
   "source": [
    "\"\"\"\n",
    "データ読み込み\n",
    "train_X, train_y\n",
    "test_X\n",
    "\"\"\"\n",
    "train = pd.read_csv(\"../../../cat-in-the-dat-ii/output/datas/train_linear_mini.csv\", index_col=0).sort_index(inplace=False)\n",
    "train_X = train.drop(['target'], axis=1)\n",
    "train_y = train['target']\n",
    "test_X = pd.read_csv(\"../../../cat-in-the-dat-ii/output/datas/test_linear_mini.csv\", index_col=0).sort_index(inplace=False)\n",
    "sample_submission = pd.read_csv(\"../../../cat-in-the-dat-ii/input/sample_submission.csv\", index_col=0)\n",
    "\n",
    "# 不要な変数を削除\n",
    "del train\n"
   ],
   "metadata": {
    "collapsed": false,
    "pycharm": {
     "name": "#%%\n"
    }
   }
  },
  {
   "cell_type": "code",
   "execution_count": null,
   "outputs": [],
   "source": [
    "\"\"\"\n",
    "KFoldでvalidation\n",
    "\"\"\"\n",
    "# kf = KFold(n_splits=5, shuffle=False, random_state=RANDOM_STATE)\n",
    "kf = StratifiedKFold(n_splits=5, shuffle=False, random_state=RANDOM_STATE)\n",
    "\n",
    "EnsembleModels = []\n",
    "RocScores = {}\n",
    "\n",
    "for i, [tr_index, val_index] in tqdm(enumerate(kf.split(train_X, train_y))):\n",
    "    model = Ridge(\n",
    "        alpha=5,\n",
    "        random_state=RANDOM_STATE,\n",
    "    )\n",
    "    \n",
    "    TempModel = model.fit(train_X.iloc[tr_index, :], train_y.iloc[tr_index])\n",
    "                                                # eval_set=[(train_X.iloc[val_index, :], train_y.iloc[val_index])],\n",
    "                                                # verbose=1,\n",
    "                                                # eval_metric='auc',\n",
    "                                                # early_stopping_rounds=100)\n",
    "    EnsembleModels.append(\n",
    "        (f'Ridge_{i}', TempModel))\n",
    "    \n",
    "    # validation\n",
    "    RocScores[f'{i}'] = [\n",
    "        roc_auc_score(train_y.iloc[val_index], TempModel.predict(train_X.iloc[val_index, :]))\n",
    "    ]\n"
   ],
   "metadata": {
    "collapsed": false,
    "pycharm": {
     "name": "#%%\n"
    }
   }
  },
  {
   "cell_type": "code",
   "execution_count": null,
   "outputs": [],
   "source": [
    "\"\"\"\n",
    "モデルを保存\n",
    "\"\"\"\n",
    "with open(\"../../../cat-in-the-dat-ii/output/models/RidgeRegression.pkl\", mode=\"wb\") as f:\n",
    "    pickle.dump(EnsembleModels, file=f)\n",
    "    print('モデル保存しました')\n",
    "\n",
    "\"\"\"\n",
    "ローカルCV結果を保存\n",
    "\"\"\"\n",
    "with open(\"../../../cat-in-the-dat-ii/output/results/RidgeRegression_localCV.pkl\", mode=\"wb\") as f:\n",
    "    pickle.dump(RocScores, file=f)\n",
    "    print('ローカルCVを保存しました')\n"
   ],
   "metadata": {
    "collapsed": false,
    "pycharm": {
     "name": "#%%\n"
    }
   }
  },
  {
   "cell_type": "code",
   "execution_count": null,
   "outputs": [],
   "source": [
    "\"\"\"\n",
    "テストテータの予測と保存\n",
    "\"\"\"\n",
    "# dataframe.append()  おっそーーー\n",
    "# dict -> dataframe  はっやーーー\n",
    "EnsembleDf = {}\n",
    "for name_model in tqdm(EnsembleModels):\n",
    "    temp = pd.Series(data=name_model[1].predict(test_X), index=test_X.index, name=name_model[0])\n",
    "    EnsembleDf[name_model[0]] = temp\n",
    "\n",
    "EnsembleDf = pd.DataFrame.from_dict(EnsembleDf, orient='columns')\n",
    "EnsembleDf.set_index(keys=sample_submission.index[:], inplace=True)\n",
    "sample_submission['target'] = EnsembleDf.mean(axis=1)\n",
    "sample_submission.to_csv(\"../../../cat-in-the-dat-ii/output/datas/sample_submission_lgb.csv\")\n",
    "print('sample_submission_lgbを保存しました')"
   ],
   "metadata": {
    "collapsed": false,
    "pycharm": {
     "name": "#%%\n"
    }
   }
  },
  {
   "cell_type": "code",
   "execution_count": null,
   "outputs": [],
   "source": [],
   "metadata": {
    "collapsed": false,
    "pycharm": {
     "name": "#%%\n"
    }
   }
  }
 ],
 "metadata": {
  "kernelspec": {
   "display_name": "Python 3",
   "language": "python",
   "name": "python3"
  },
  "language_info": {
   "codemirror_mode": {
    "name": "ipython",
    "version": 2
   },
   "file_extension": ".py",
   "mimetype": "text/x-python",
   "name": "python",
   "nbconvert_exporter": "python",
   "pygments_lexer": "ipython2",
   "version": "2.7.6"
  },
  "pycharm": {
   "stem_cell": {
    "cell_type": "raw",
    "source": [],
    "metadata": {
     "collapsed": false
    }
   }
  }
 },
 "nbformat": 4,
 "nbformat_minor": 0
}
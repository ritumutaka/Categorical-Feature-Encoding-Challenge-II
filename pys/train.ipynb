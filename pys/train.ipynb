{
 "cells": [
  {
   "cell_type": "code",
   "execution_count": 1,
   "metadata": {
    "collapsed": true,
    "pycharm": {
     "is_executing": false
    }
   },
   "outputs": [
    {
     "name": "stderr",
     "text": [
      "/Users/ritumutaka/.conda/envs/Categorical_Feature_Encoding_Challenge_II/lib/python3.7/site-packages/lightgbm/__init__.py:48: UserWarning: Starting from version 2.2.1, the library file in distribution wheels for macOS is built by the Apple Clang (Xcode_8.3.3) compiler.\n",
      "This means that in case of installing LightGBM from PyPI via the ``pip install lightgbm`` command, you don't need to install the gcc compiler anymore.\n",
      "Instead of that, you need to install the OpenMP library, which is required for running LightGBM on the system with the Apple Clang compiler.\n",
      "You can install the OpenMP library by the following command: ``brew install libomp``.\n",
      "  \"You can install the OpenMP library by the following command: ``brew install libomp``.\", UserWarning)\n"
     ],
     "output_type": "stream"
    }
   ],
   "source": [
    "import pandas as pd\n",
    "import matplotlib.pyplot as plt\n",
    "import lightgbm as lgb\n",
    "from sklearn.model_selection import StratifiedKFold, train_test_split\n",
    "import seaborn as sns\n",
    "import category_encoders as ce\n",
    "from sklearn import linear_model\n",
    "from sklearn.metrics import roc_auc_score, roc_curve\n",
    "\n",
    "pd.set_option('display.max_columns', 100)\n",
    "DATA_FOLDER_PATH = \"/Users/ritumutaka/J/Categorical_Feature_Encoding_Challenge_II/datas/cat-in-the-dat-ii\"\n",
    "RANDOM_STATE = 2020"
   ]
  },
  {
   "cell_type": "code",
   "execution_count": 2,
   "outputs": [],
   "source": [
    "# ターゲットの分布\n",
    "def count_plot(data_series):\n",
    "    values = data_series.value_counts()\n",
    "    fig, ax = plt.subplots(1, 1, figsize=(8, 5))\n",
    "    \n",
    "    barplot = plt.bar(values.index, values, color='lightgreen', alpha=0.8)\n",
    "    barplot[1].set_color('darkred')\n",
    "    \n",
    "    ax.set_title('Target Distribution')\n",
    "    ax.annotate(\"percentage of target 1 : {}%\".format(values.sum() / len(values)),\n",
    "                xy=(0, 0), xycoords='axes fraction',\n",
    "                xytext=(0, -50), textcoords='offset points',\n",
    "                va=\"top\", ha=\"left\", color='grey',\n",
    "                bbox=dict(boxstyle='round', fc=\"w\", ec='w'))\n",
    "    \n",
    "    plt.xlabel('Target', fontsize=12, weight='bold')\n",
    "    plt.show()\n",
    "\n",
    "def plot_roc(y_true, y_pred, model_name):\n",
    "    fpr, tpr, thresholds = roc_curve(y_true, y_pred)\n",
    "    print(\"%s: %s\" % (model_name, auc(fpr, tpr)))\n",
    "    plt.title(model_name)\n",
    "    plt.plot(fpr, tpr, marker='o')\n",
    "    plt.xlabel('FPR: False positive rate')\n",
    "    plt.ylabel('TPR: True positive rate')\n",
    "    plt.grid()\n",
    "    plt.show()"
   ],
   "metadata": {
    "collapsed": false,
    "pycharm": {
     "name": "#%%\n",
     "is_executing": false
    }
   }
  },
  {
   "cell_type": "code",
   "execution_count": 3,
   "metadata": {
    "collapsed": false,
    "pycharm": {
     "is_executing": false
    }
   },
   "outputs": [
    {
     "name": "stdout",
     "text": [
      "CPU times: user 3 µs, sys: 1 µs, total: 4 µs\n",
      "Wall time: 6.91 µs\n"
     ],
     "output_type": "stream"
    }
   ],
   "source": [
    "print('load data')\n",
    "%time\n",
    "\n",
    "MAKE_TARGET_ENCODED_DATA = False\n",
    "\n",
    "train = pd.read_csv(DATA_FOLDER_PATH + \"/train.csv\").sort_index(inplace=False)\n",
    "test = pd.read_csv(DATA_FOLDER_PATH + \"/train.csv\").sort_index(inplace=False)\n",
    "sample_submission = pd.read_csv(DATA_FOLDER_PATH + \"/sample_submission.csv\", index_col=0)\n",
    "\n",
    "if not MAKE_TARGET_ENCODED_DATA:\n",
    "    train_X = pd.read_csv(DATA_FOLDER_PATH + \"/train_X_TargetEncoded.csv\", index_col=0)\n",
    "    train_y = train['target']\n",
    "    test_X = pd.read_csv(DATA_FOLDER_PATH + \"/test_X_TargetEncoded.csv\", index_col=0)\n",
    "elif MAKE_TARGET_ENCODED_DATA:\n",
    "    # ターゲットエンコードしてデータを作成\n",
    "    train_X, train_y = train.drop(['id', 'target'], axis=1), train['target']\n",
    "    test_X = test.drop(['id'], axis=1)\n",
    "    \n",
    "    # ターゲットエンコーディング\n",
    "    skf = StratifiedKFold(n_splits=5, random_state=RANDOM_STATE, shuffle=True)\n",
    "    encode_features = list(train_X.columns)\n",
    "    smoothing = 0.20\n",
    "    \n",
    "    #  trainデータをエンコード\n",
    "    oof = pd.DataFrame([])\n",
    "    for tr_index, oof_index in skf.split(train_X, train_y):\n",
    "        ce_target_encoder = ce.TargetEncoder(cols=encode_features, smoothing=smoothing)\n",
    "        ce_target_encoder.fit(train_X.iloc[tr_index, :], train_y.iloc[tr_index])\n",
    "        oof_part = ce_target_encoder.transform(train_X.iloc[oof_index, :])\n",
    "        oof = oof.append(oof_part, ignore_index=False)\n",
    "        print(oof_index)\n",
    "\n",
    "    # testデータをエンコード\n",
    "    ce_target_encoder = ce.TargetEncoder(cols=encode_features, smoothing=smoothing)\n",
    "    ce_target_encoder.fit(train_X, train_y)\n",
    "    train_X = oof.sort_index()\n",
    "    test_X = ce_target_encoder.transform(test_X)\n",
    "    \n",
    "    # ターゲットエンコード済みデータとして保存\n",
    "    train_X.to_csv(DATA_FOLDER_PATH + \"/test_X_TargetEncoded.csvTargetEncoded.csv\")\n",
    "    test_X.to_csv(DATA_FOLDER_PATH + \"/test_X_TargetEncoded.csv\")\n",
    "\n",
    "# valデータの作成\n",
    "train_X, val_X, train_y, val_y = train_test_split(\n",
    "    train_X, train_y, test_size=0.1, shuffle=False, random_state=RANDOM_STATE)"
   ]
  },
  {
   "cell_type": "code",
   "execution_count": 4,
   "metadata": {
    "collapsed": false,
    "pycharm": {
     "is_executing": false,
     "name": "#%% linear model\n"
    }
   },
   "outputs": [
    {
     "name": "stdout",
     "text": [
      "linear model training\n",
      "CPU times: user 4 µs, sys: 1 µs, total: 5 µs\n",
      "Wall time: 7.87 µs\n"
     ],
     "output_type": "stream"
    }
   ],
   "source": [
    "print('linear model training')\n",
    "\n",
    "%time\n",
    "\n",
    "linear_model_LR = linear_model.LogisticRegression(\n",
    "    random_state=RANDOM_STATE, solver='lbfgs', max_iter=2020, fit_intercept=True, penalty='none', verbose=0\n",
    ")\n",
    "linear_model_LR.fit(train_X, train_y)\n",
    "val_y_predicted_by_LR = linear_model_LR.predict_proba(val_X)[:, 1]\n",
    "test_y_predicted_by_LR = linear_model_LR.predict_proba(test_X)[:, 1]"
   ]
  },
  {
   "cell_type": "code",
   "execution_count": 5,
   "outputs": [
    {
     "name": "stdout",
     "text": [
      "tree model training\n",
      "CPU times: user 3 µs, sys: 3 µs, total: 6 µs\n",
      "Wall time: 7.15 µs\n"
     ],
     "output_type": "stream"
    }
   ],
   "source": [
    "print('tree model training')\n",
    "\n",
    "%time\n",
    "\n",
    "tree_model_lgb = lgb.LGBMClassifier()    # デフォルトパラメータ\n",
    "tree_model_lgb.fit(train_X, train_y)\n",
    "val_y_predicted_by_lgb = tree_model_lgb.predict_proba(val_X)[:, 1]\n",
    "test_y_predicted_by_lgb = tree_model_lgb.predict_proba(test_X)[:, 1]\n"
   ],
   "metadata": {
    "collapsed": false,
    "pycharm": {
     "name": "#%% tree model\n",
     "is_executing": false
    }
   }
  },
  {
   "cell_type": "code",
   "execution_count": 6,
   "metadata": {
    "pycharm": {
     "is_executing": false,
     "name": "#%% plot ROC\n"
    }
   },
   "outputs": [
    {
     "name": "stdout",
     "text": [
      "plot ROC\n",
      "CPU times: user 4 µs, sys: 1e+03 ns, total: 5 µs\n",
      "Wall time: 8.82 µs\n",
      "Logistic Regression: 0.7857009186385919\n",
      "lgb: 0.7839379436973817\n"
     ],
     "output_type": "stream"
    },
    {
     "data": {
      "text/plain": "<Figure size 432x288 with 1 Axes>",
      "image/png": "[encoded data removed]"
     },
     "metadata": {
      "needs_background": "light"
     },
     "output_type": "display_data"
    },
    {
     "data": {
      "text/plain": "<Figure size 432x288 with 1 Axes>",
      "image/png": "[encoded data removed]"
     },
     "metadata": {
      "needs_background": "light"
     },
     "output_type": "display_data"
    }
   ],
   "source": [
    "print('plot ROC')\n",
    "\n",
    "%time\n",
    "from sklearn.metrics import auc\n",
    "\n",
    "plot_roc(val_y, val_y_predicted_by_LR, 'Logistic Regression')\n",
    "plot_roc(val_y, val_y_predicted_by_lgb, 'lgb')"
   ]
  },
  {
   "cell_type": "code",
   "execution_count": 10,
   "outputs": [
    {
     "name": "stdout",
     "text": [
      "ensemble: 0.7862819103553592\n"
     ],
     "output_type": "stream"
    },
    {
     "data": {
      "text/plain": "<Figure size 432x288 with 1 Axes>",
      "image/png": "[encoded data removed]"
     },
     "metadata": {
      "needs_background": "light"
     },
     "output_type": "display_data"
    }
   ],
   "source": [
    "val_y_predicted_ensemble = pd.DataFrame({\n",
    "    'LR': val_y_predicted_by_LR,\n",
    "    'lgb': val_y_predicted_by_lgb,\n",
    "})\n",
    "\n",
    "test_y_predicted_ensemble = pd.DataFrame({\n",
    "    'LR': test_y_predicted_by_LR,\n",
    "    'lgb': test_y_predicted_by_lgb,\n",
    "})\n",
    "\n",
    "val_y_predicted_ensemble['mean'] = val_y_predicted_ensemble.mean(axis=1)\n",
    "test_y_predicted_ensemble['mean'] = test_y_predicted_ensemble.mean(axis=1)\n",
    "\n",
    "plot_roc(val_y, val_y_predicted_ensemble['mean'], 'ensemble')"
   ],
   "metadata": {
    "collapsed": false,
    "pycharm": {
     "name": "#%% アンサンブル\n",
     "is_executing": false
    }
   }
  },
  {
   "cell_type": "code",
   "execution_count": 13,
   "outputs": [],
   "source": [
    "import numpy as np\n",
    "sample_submission['target'] = np.array(test_y_predicted_ensemble['mean'])\n",
    "sample_submission.to_csv(\"../datas/cat-in-the-dat-ii/submission_20200224.csv\")\n"
   ],
   "metadata": {
    "collapsed": false,
    "pycharm": {
     "name": "#%%\n",
     "is_executing": false
    }
   }
  },
  {
   "cell_type": "code",
   "execution_count": 8,
   "outputs": [],
   "source": [
    "\n",
    "\n"
   ],
   "metadata": {
    "collapsed": false,
    "pycharm": {
     "name": "#%% adversarial varidation\n",
     "is_executing": false
    }
   }
  }
 ],
 "metadata": {
  "kernelspec": {
   "name": "python3",
   "language": "python",
   "display_name": "Python 3"
  },
  "language_info": {
   "codemirror_mode": {
    "name": "ipython",
    "version": 2
   },
   "file_extension": ".py",
   "mimetype": "text/x-python",
   "name": "python",
   "nbconvert_exporter": "python",
   "pygments_lexer": "ipython2",
   "version": "2.7.6"
  },
  "pycharm": {
   "stem_cell": {
    "cell_type": "raw",
    "source": [],
    "metadata": {
     "collapsed": false
    }
   }
  }
 },
 "nbformat": 4,
 "nbformat_minor": 0
}
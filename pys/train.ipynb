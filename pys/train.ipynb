{
 "cells": [
  {
   "cell_type": "code",
   "execution_count": 1,
   "metadata": {
    "collapsed": true,
    "pycharm": {
     "is_executing": false
    }
   },
   "outputs": [
    {
     "name": "stderr",
     "text": [
      "/Users/ritumutaka/.conda/envs/Categorical_Feature_Encoding_Challenge_II/lib/python3.7/site-packages/lightgbm/__init__.py:48: UserWarning: Starting from version 2.2.1, the library file in distribution wheels for macOS is built by the Apple Clang (Xcode_8.3.3) compiler.\n",
      "This means that in case of installing LightGBM from PyPI via the ``pip install lightgbm`` command, you don't need to install the gcc compiler anymore.\n",
      "Instead of that, you need to install the OpenMP library, which is required for running LightGBM on the system with the Apple Clang compiler.\n",
      "You can install the OpenMP library by the following command: ``brew install libomp``.\n",
      "  \"You can install the OpenMP library by the following command: ``brew install libomp``.\", UserWarning)\n"
     ],
     "output_type": "stream"
    }
   ],
   "source": [
    "import pandas as pd\n",
    "import matplotlib.pyplot as plt\n",
    "import lightgbm as lgb\n",
    "from sklearn.model_selection import StratifiedKFold, KFold\n",
    "import seaborn as sns\n",
    "import category_encoders as ce\n",
    "from sklearn import linear_model\n",
    "from sklearn.preprocessing import StandardScaler\n",
    "from sklearn.metrics import roc_auc_score, roc_curve, auc\n",
    "import pickle\n",
    "from tqdm import tqdm\n",
    "\n",
    "pd.set_option('display.max_columns', 100)\n",
    "DATA_FOLDER_PATH = \"/Users/ritumutaka/J/Categorical_Feature_Encoding_Challenge_II/datas/cat-in-the-dat-ii\"\n",
    "RANDOM_STATE = 2020"
   ]
  },
  {
   "cell_type": "code",
   "execution_count": 2,
   "outputs": [],
   "source": [
    "\"\"\"\n",
    "関数定義\n",
    "\"\"\"\n",
    "def count_plot(data_series):\n",
    "    values = data_series.value_counts()\n",
    "    fig, ax = plt.subplots(1, 1, figsize=(8, 5))\n",
    "    \n",
    "    barplot = plt.bar(values.index, values, color='lightgreen', alpha=0.8)\n",
    "    barplot[1].set_color('darkred')\n",
    "    \n",
    "    ax.set_title('Target Distribution')\n",
    "    ax.annotate(\"percentage of target 1 : {}%\".format(values.sum() / len(values)),\n",
    "                xy=(0, 0), xycoords='axes fraction',\n",
    "                xytext=(0, -50), textcoords='offset points',\n",
    "                va=\"top\", ha=\"left\", color='grey',\n",
    "                bbox=dict(boxstyle='round', fc=\"w\", ec='w'))\n",
    "    \n",
    "    plt.xlabel('Target', fontsize=12, weight='bold')\n",
    "    plt.show()\n",
    "\n",
    "def plot_roc(y_true, y_pred, model_name):\n",
    "    fpr, tpr, thresholds = roc_curve(y_true, y_pred)\n",
    "    print(\"%s: %s\" % (model_name, auc(fpr, tpr)))\n",
    "    plt.title(model_name)\n",
    "    plt.plot(fpr, tpr, marker='o')\n",
    "    plt.xlabel('FPR: False positive rate')\n",
    "    plt.ylabel('TPR: True positive rate')\n",
    "    plt.grid()\n",
    "    plt.show()"
   ],
   "metadata": {
    "collapsed": false,
    "pycharm": {
     "name": "#%%\n",
     "is_executing": false
    }
   }
  },
  {
   "cell_type": "code",
   "execution_count": 3,
   "metadata": {
    "collapsed": false,
    "pycharm": {
     "is_executing": false,
     "name": "#%% \n"
    }
   },
   "outputs": [
    {
     "name": "stdout",
     "text": [
      "load data\n",
      "CPU times: user 2 µs, sys: 0 ns, total: 2 µs\n",
      "Wall time: 4.77 µs\n"
     ],
     "output_type": "stream"
    }
   ],
   "source": [
    "\"\"\"\n",
    "データの読み込み & ターゲットエンコーディング\n",
    "train_X, train_y\n",
    "test_X\n",
    "\"\"\"\n",
    "\n",
    "MAKE_TARGET_ENCODED_DATA = False\n",
    "ENCODE_FEATURES = ['bin_0', 'bin_1', 'bin_2', 'bin_3', 'bin_4',\n",
    "                   'nom_0', 'nom_1', 'nom_2', 'nom_3', 'nom_4', 'nom_5', 'nom_6', 'nom_7', 'nom_8', 'nom_9',\n",
    "                   'day', 'month']\n",
    "\n",
    "train = pd.read_csv(DATA_FOLDER_PATH + \"/input/train.csv\", index_col=0).sort_index(inplace=False)\n",
    "test = pd.read_csv(DATA_FOLDER_PATH + \"/input/test.csv\", index_col=0).sort_index(inplace=False)\n",
    "sample_submission = pd.read_csv(DATA_FOLDER_PATH + \"/input/sample_submission.csv\", index_col=0)\n",
    "\n",
    "if not MAKE_TARGET_ENCODED_DATA:\n",
    "    train_X = pd.read_csv(DATA_FOLDER_PATH + \"/train_X_TargetEncoded.csv\", index_col=0)\n",
    "    train_y = train['target']\n",
    "    test_X = pd.read_csv(DATA_FOLDER_PATH + \"/test_X_TargetEncoded.csv\", index_col=0)\n",
    "elif MAKE_TARGET_ENCODED_DATA:\n",
    "    # ターゲットエンコードしてデータを作成\n",
    "    train_X, train_y = train.drop(['target'], axis=1), train['target']\n",
    "    test_X = test\n",
    "    \n",
    "    # ターゲットエンコーディング\n",
    "    skf = StratifiedKFold(n_splits=5, random_state=RANDOM_STATE, shuffle=True)\n",
    "    encode_features = ENCODE_FEATURES\n",
    "    smoothing = 0.20\n",
    "    \n",
    "    #  trainデータをエンコード\n",
    "    oof = pd.DataFrame([])\n",
    "    for tr_index, oof_index in skf.split(train_X, train_y):\n",
    "        ce_target_encoder = ce.TargetEncoder(cols=encode_features, smoothing=smoothing)\n",
    "        ce_target_encoder.fit(train_X.iloc[tr_index, :], train_y.iloc[tr_index])\n",
    "        oof_part = ce_target_encoder.transform(train_X.iloc[oof_index, :])\n",
    "        oof = oof.append(oof_part, ignore_index=False)\n",
    "        print(oof_index)\n",
    "\n",
    "    # testデータをエンコード\n",
    "    ce_target_encoder = ce.TargetEncoder(cols=encode_features, smoothing=smoothing)\n",
    "    ce_target_encoder.fit(train_X, train_y)\n",
    "    train_X = oof.sort_index()\n",
    "    ce_target_encoder.transform(test_X)\n",
    "    \n",
    "    # ターゲットエンコード済みデータとして保存\n",
    "    train_X.to_csv(DATA_FOLDER_PATH + \"/train_X_TargetEncoded.csv\")\n",
    "    test_X.to_csv(DATA_FOLDER_PATH + \"/test_X_TargetEncoded.csv\")"
   ]
  },
  {
   "cell_type": "code",
   "execution_count": 10,
   "outputs": [],
   "source": [
    "\"\"\"\n",
    "序数変数のエンコード\n",
    "(単純に階級を数字に置き換えているだけ)\n",
    "\"\"\"\n",
    "# id列をindexとして指定しないと、test側でindexが0から連番となり、nanが代入されるため注意\n",
    "ord_columns = ['id', 'ord_0', 'ord_1', 'ord_2', 'ord_3', 'ord_4']\n",
    "train_temp = pd.read_csv(DATA_FOLDER_PATH + \"/train_ord.csv\", usecols=ord_columns, index_col=0)\n",
    "test_temp = pd.read_csv(DATA_FOLDER_PATH + \"/test_ord.csv\", usecols=ord_columns, index_col=0)\n",
    "ord_columns.remove('id')\n",
    "train_X[ord_columns] = train_temp\n",
    "test_X[ord_columns] = test_temp\n",
    "\n",
    "# 不要な変数を削除\n",
    "del train_temp\n",
    "del test_temp"
   ],
   "metadata": {
    "collapsed": false,
    "pycharm": {
     "name": "#%%\n",
     "is_executing": false
    }
   }
  },
  {
   "cell_type": "code",
   "execution_count": 12,
   "outputs": [],
   "source": [
    "\"\"\"\n",
    "特徴生成 & 特徴選択\n",
    "\"\"\"\n",
    "# ord_5\n",
    "train_X.drop(['ord_5'], axis=1, inplace=True)\n",
    "test_X.drop(['ord_5'], axis=1, inplace=True)\n",
    "\n",
    "# add isnull column\n",
    "train_X['isnull_count'] = train.isnull().sum(axis=1)\n",
    "test_X['isnull_count'] = test.isnull().sum(axis=1)"
   ],
   "metadata": {
    "collapsed": false,
    "pycharm": {
     "name": "#%%\n",
     "is_executing": false
    }
   }
  },
  {
   "cell_type": "code",
   "execution_count": 13,
   "outputs": [],
   "source": [
    "\"\"\"\n",
    "モデル定義\n",
    "\"\"\"\n",
    "# 線形モデル : ロジスティック回帰\n",
    "LinearModel_LogisticRegression = linear_model.LogisticRegression(\n",
    "    random_state=RANDOM_STATE, solver='lbfgs', max_iter=2020, fit_intercept=True, penalty='none', verbose=0\n",
    ")\n",
    "\n",
    "# ツリーモデル : LightGBM\n",
    "TreeModel_LightGbm = lgb.LGBMClassifier(\n",
    "    # デフォルトパラメータ\n",
    ")"
   ],
   "metadata": {
    "collapsed": false,
    "pycharm": {
     "name": "#%%\n",
     "is_executing": false
    }
   }
  },
  {
   "cell_type": "code",
   "execution_count": 14,
   "outputs": [
    {
     "name": "stderr",
     "text": [
      "/Users/ritumutaka/.conda/envs/Categorical_Feature_Encoding_Challenge_II/lib/python3.7/site-packages/sklearn/model_selection/_split.py:296: FutureWarning: Setting a random_state has no effect since shuffle is False. This will raise an error in 0.24. You should leave random_state to its default (None), or set shuffle=True.\n",
      "  FutureWarning\n"
     ],
     "output_type": "stream"
    },
    {
     "name": "stdout",
     "text": [
      "[     0      1      2 ... 119997 119998 119999]\n",
      "[120000 120001 120002 ... 239997 239998 239999]\n",
      "[240000 240001 240002 ... 359997 359998 359999]\n",
      "[360000 360001 360002 ... 479997 479998 479999]\n",
      "[480000 480001 480002 ... 599997 599998 599999]\n",
      "CPU times: user 6min 25s, sys: 17.5 s, total: 6min 42s\n",
      "Wall time: 3min 12s\n"
     ],
     "output_type": "stream"
    }
   ],
   "source": [
    "%%time\n",
    "\"\"\"\n",
    "KFoldでvalidation\n",
    "\"\"\"\n",
    "kf = KFold(n_splits=5, shuffle=False, random_state=RANDOM_STATE)\n",
    "\n",
    "EnsembleModels = []\n",
    "RocScores = {}\n",
    "\n",
    "for i, [tr_index, val_index] in tqdm(enumerate(kf.split(train_X, train_y))):\n",
    "    TempModel_LogisticRegression = LinearModel_LogisticRegression.fit(train_X.iloc[tr_index, :], train_y.iloc[tr_index])\n",
    "    TempModel_LightGbm = TreeModel_LightGbm.fit(train_X.iloc[tr_index, :], train_y.iloc[tr_index])\n",
    "    EnsembleModels.extend([\n",
    "        (f'LogisticRegression_{i}', TempModel_LogisticRegression),\n",
    "        (f'LightGbm_{i}', TempModel_LightGbm),\n",
    "    ])\n",
    "    \n",
    "    # validation\n",
    "    RocScores[f'{i}'] = [\n",
    "        roc_auc_score(train_y.iloc[val_index], TempModel_LogisticRegression.predict_proba(train_X.iloc[val_index, :])[:, 1]),\n",
    "        roc_auc_score(train_y.iloc[val_index], TempModel_LightGbm.predict_proba(train_X.iloc[val_index, :])[:, 1]),\n",
    "    ]\n",
    "    print(val_index)\n",
    "   "
   ],
   "metadata": {
    "collapsed": false,
    "pycharm": {
     "name": "#%%\n",
     "is_executing": false
    }
   }
  },
  {
   "cell_type": "code",
   "execution_count": 15,
   "outputs": [],
   "source": [
    "\"\"\"\n",
    "モデルを保存\n",
    "\"\"\"\n",
    "with open(\"../datas/cat-in-the-dat-ii/models/EnsembleModels_20200301_00.pkl\", mode=\"wb\") as f:\n",
    "    pickle.dump(EnsembleModels, file=f)\n",
    "\n",
    "\"\"\"\n",
    "ローカルCV結果を保存\n",
    "\"\"\"\n",
    "with open(\"../datas/cat-in-the-dat-ii/models/RocScores_20200301_00.pkl\", mode=\"wb\") as f:\n",
    "    pickle.dump(RocScores, f)"
   ],
   "metadata": {
    "collapsed": false,
    "pycharm": {
     "name": "#%% \n",
     "is_executing": false
    }
   }
  },
  {
   "cell_type": "code",
   "execution_count": 39,
   "outputs": [],
   "source": [
    "\"\"\"\n",
    "アンサンブル予測\n",
    "\"\"\"\n",
    "EnsembleDf = sample_submission.copy() \n",
    "\n",
    "for name_model in EnsembleModels:\n",
    "    temp = pd.Series(data=name_model[1].predict_proba(test_X)[:, 1], index=test.index, name=name_model[0])\n",
    "    EnsembleDf = pd.concat([EnsembleDf, temp], axis=1)\n",
    "\n",
    "EnsembleDf.drop(['target'], axis=1, inplace=True)\n",
    "EnsembleDf.sort_index(axis=1, inplace=True)   # カラム名でソート\n",
    "\n",
    "# 不要な変数を削除\n",
    "del temp"
   ],
   "metadata": {
    "collapsed": false,
    "pycharm": {
     "name": "#%%\n",
     "is_executing": false
    }
   }
  },
  {
   "cell_type": "code",
   "execution_count": 41,
   "outputs": [],
   "source": [
    "sample_submission['target'] = EnsembleDf.mean(axis=1)\n",
    "sample_submission.to_csv(\"../datas/cat-in-the-dat-ii/submission_20200301.csv\")"
   ],
   "metadata": {
    "collapsed": false,
    "pycharm": {
     "name": "#%%\n",
     "is_executing": false
    }
   }
  },
  {
   "cell_type": "code",
   "execution_count": null,
   "outputs": [],
   "source": [],
   "metadata": {
    "collapsed": false,
    "pycharm": {
     "name": "#%%\n"
    }
   }
  }
 ],
 "metadata": {
  "kernelspec": {
   "name": "python3",
   "language": "python",
   "display_name": "Python 3"
  },
  "language_info": {
   "codemirror_mode": {
    "name": "ipython",
    "version": 2
   },
   "file_extension": ".py",
   "mimetype": "text/x-python",
   "name": "python",
   "nbconvert_exporter": "python",
   "pygments_lexer": "ipython2",
   "version": "2.7.6"
  },
  "pycharm": {
   "stem_cell": {
    "cell_type": "raw",
    "source": [],
    "metadata": {
     "collapsed": false
    }
   }
  }
 },
 "nbformat": 4,
 "nbformat_minor": 0
}